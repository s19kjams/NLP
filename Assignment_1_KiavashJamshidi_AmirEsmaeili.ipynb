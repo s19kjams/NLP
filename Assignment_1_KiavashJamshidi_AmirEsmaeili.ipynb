{
 "cells": [
  {
   "cell_type": "markdown",
   "metadata": {},
   "source": [
    "### Task 1.1\n"
   ]
  },
  {
   "cell_type": "code",
   "execution_count": 5,
   "metadata": {
    "metadata": {}
   },
   "outputs": [],
   "source": [
    "def extract_words_tokens(any_string: str):\n",
    "    without_space_string = any_string.strip().split()\n",
    "    num_words = len(without_space_string)\n",
    "    num_tokens = len(any_string)\n",
    "    return(print(any_string, \":\", \"num_words:\", num_words, \"and\", \"num_tokens:\", num_tokens, \"respectively\"))"
   ]
  },
  {
   "cell_type": "markdown",
   "metadata": {},
   "source": [
    "### Task 1.2"
   ]
  },
  {
   "cell_type": "code",
   "execution_count": 6,
   "metadata": {
    "metadata": {}
   },
   "outputs": [],
   "source": [
    "def lemmatize(any_string, file_name):\n",
    "    lemma_dict = {}\n",
    "    with open(file_name, 'r', encoding=\"utf-8-sig\") as file:\n",
    "        for line in file:\n",
    "            lemma, word_form = line.strip().split(\"\\t\")\n",
    "            lemma_dict[word_form] = lemma\n",
    "    \n",
    "    input_words = any_string.split()\n",
    "    \n",
    "    dictionary_of_lemmatized_words = {}\n",
    "    for word in input_words:\n",
    "        word_without_special_characters = ''.join(e for e in word if e.isalnum())\n",
    "        lower_word_without_special_characters = word_without_special_characters.lower()\n",
    "\n",
    "        dictionary_of_lemmatized_words[word_without_special_characters] = lemma_dict.get(lower_word_without_special_characters, lower_word_without_special_characters)\n",
    "    \n",
    "    return dictionary_of_lemmatized_words"
   ]
  },
  {
   "cell_type": "markdown",
   "metadata": {},
   "source": [
    "### Task 2"
   ]
  },
  {
   "cell_type": "code",
   "execution_count": 7,
   "metadata": {},
   "outputs": [
    {
     "data": {
      "text/html": [
       "<div>\n",
       "<style scoped>\n",
       "    .dataframe tbody tr th:only-of-type {\n",
       "        vertical-align: middle;\n",
       "    }\n",
       "\n",
       "    .dataframe tbody tr th {\n",
       "        vertical-align: top;\n",
       "    }\n",
       "\n",
       "    .dataframe thead th {\n",
       "        text-align: right;\n",
       "    }\n",
       "</style>\n",
       "<table border=\"1\" class=\"dataframe\">\n",
       "  <thead>\n",
       "    <tr style=\"text-align: right;\">\n",
       "      <th></th>\n",
       "      <th>Text</th>\n",
       "      <th>Label</th>\n",
       "    </tr>\n",
       "  </thead>\n",
       "  <tbody>\n",
       "    <tr>\n",
       "      <th>0</th>\n",
       "      <td>every now and then a movie comes along from a ...</td>\n",
       "      <td>pos</td>\n",
       "    </tr>\n",
       "    <tr>\n",
       "      <th>1</th>\n",
       "      <td>mtv films' _election , a high school comedy st...</td>\n",
       "      <td>pos</td>\n",
       "    </tr>\n",
       "    <tr>\n",
       "      <th>2</th>\n",
       "      <td>did anybody know this film existed a week befo...</td>\n",
       "      <td>pos</td>\n",
       "    </tr>\n",
       "    <tr>\n",
       "      <th>3</th>\n",
       "      <td>the plot is deceptively simple .</td>\n",
       "      <td>pos</td>\n",
       "    </tr>\n",
       "    <tr>\n",
       "      <th>4</th>\n",
       "      <td>george washington carver high school is having...</td>\n",
       "      <td>pos</td>\n",
       "    </tr>\n",
       "  </tbody>\n",
       "</table>\n",
       "</div>"
      ],
      "text/plain": [
       "                                                Text Label\n",
       "0  every now and then a movie comes along from a ...   pos\n",
       "1  mtv films' _election , a high school comedy st...   pos\n",
       "2  did anybody know this film existed a week befo...   pos\n",
       "3                  the plot is deceptively simple .    pos\n",
       "4  george washington carver high school is having...   pos"
      ]
     },
     "execution_count": 7,
     "metadata": {},
     "output_type": "execute_result"
    }
   ],
   "source": [
    "import pandas as pd\n",
    "\n",
    "\n",
    "column_names = [\"Text\", \"Label\"]\n",
    "polarity_df = pd.read_csv(\"./polarity.txt\", delimiter=\"\\t\", header=None, names=column_names)\n",
    "polarity_df.head()"
   ]
  },
  {
   "cell_type": "markdown",
   "metadata": {},
   "source": [
    "### Task 2.1"
   ]
  },
  {
   "cell_type": "code",
   "execution_count": 8,
   "metadata": {},
   "outputs": [
    {
     "data": {
      "text/html": [
       "<div>\n",
       "<style scoped>\n",
       "    .dataframe tbody tr th:only-of-type {\n",
       "        vertical-align: middle;\n",
       "    }\n",
       "\n",
       "    .dataframe tbody tr th {\n",
       "        vertical-align: top;\n",
       "    }\n",
       "\n",
       "    .dataframe thead th {\n",
       "        text-align: right;\n",
       "    }\n",
       "</style>\n",
       "<table border=\"1\" class=\"dataframe\">\n",
       "  <thead>\n",
       "    <tr style=\"text-align: right;\">\n",
       "      <th></th>\n",
       "      <th>Text</th>\n",
       "      <th>Label</th>\n",
       "    </tr>\n",
       "  </thead>\n",
       "  <tbody>\n",
       "    <tr>\n",
       "      <th>0</th>\n",
       "      <td>every now and then a movie comes along from a ...</td>\n",
       "      <td>1</td>\n",
       "    </tr>\n",
       "    <tr>\n",
       "      <th>1</th>\n",
       "      <td>mtv films' _election , a high school comedy st...</td>\n",
       "      <td>1</td>\n",
       "    </tr>\n",
       "    <tr>\n",
       "      <th>2</th>\n",
       "      <td>did anybody know this film existed a week befo...</td>\n",
       "      <td>1</td>\n",
       "    </tr>\n",
       "    <tr>\n",
       "      <th>3</th>\n",
       "      <td>the plot is deceptively simple .</td>\n",
       "      <td>1</td>\n",
       "    </tr>\n",
       "    <tr>\n",
       "      <th>4</th>\n",
       "      <td>george washington carver high school is having...</td>\n",
       "      <td>1</td>\n",
       "    </tr>\n",
       "  </tbody>\n",
       "</table>\n",
       "</div>"
      ],
      "text/plain": [
       "                                                Text  Label\n",
       "0  every now and then a movie comes along from a ...      1\n",
       "1  mtv films' _election , a high school comedy st...      1\n",
       "2  did anybody know this film existed a week befo...      1\n",
       "3                  the plot is deceptively simple .       1\n",
       "4  george washington carver high school is having...      1"
      ]
     },
     "execution_count": 8,
     "metadata": {},
     "output_type": "execute_result"
    }
   ],
   "source": [
    "mapping = {\n",
    "    \"pos\": 1,\n",
    "    \"neg\": 0\n",
    "}\n",
    "\n",
    "polarity_df[\"Label\"] = polarity_df[\"Label\"].apply(lambda r: mapping[r])\n",
    "polarity_df.head()"
   ]
  },
  {
   "cell_type": "markdown",
   "metadata": {},
   "source": [
    "### Task 3"
   ]
  },
  {
   "cell_type": "code",
   "execution_count": 9,
   "metadata": {
    "metadata": {}
   },
   "outputs": [
    {
     "data": {
      "text/plain": [
       "'output.csv'"
      ]
     },
     "execution_count": 9,
     "metadata": {},
     "output_type": "execute_result"
    }
   ],
   "source": [
    "import csv\n",
    "from collections import Counter\n",
    "\n",
    "def create_count_and_probability(file_name):\n",
    "    with open(file_name, 'r') as file:\n",
    "        lines = file.readlines()\n",
    "    \n",
    "    vocabulary = set()\n",
    "    for line in lines:\n",
    "        lemmatized_words = lemmatize(line, \"lemmatization-en.txt\").values()\n",
    "        vocabulary.update(lemmatized_words)\n",
    "\n",
    "    vocabulary = sorted(vocabulary)\n",
    "    \n",
    "    with open('output.csv', 'w', newline='') as csvfile:\n",
    "        writer = csv.writer(csvfile)\n",
    "        writer.writerow(['Text', 'Count_Vector', 'Probability']) \n",
    "        \n",
    "        for line in lines:\n",
    "            lemmatized_words_dict = lemmatize(line, \"lemmatization-en.txt\")\n",
    "\n",
    "            lemmatized_words = []\n",
    "            for word in line.split():\n",
    "                word_without_special_characters = ''.join(e for e in word if e.isalnum()).lower()\n",
    "                lemmatized_word = lemmatized_words_dict.get(word_without_special_characters, word_without_special_characters)\n",
    "                lemmatized_words.append(lemmatized_word)\n",
    "            \n",
    "            word_count = Counter(lemmatized_words)\n",
    "            \n",
    "            count_vector = [word_count[word] for word in vocabulary]\n",
    "\n",
    "            total_words = sum(count_vector)\n",
    "            probability_vector = [word_count[word] / total_words if total_words > 0 else 0 for word in lemmatized_words]\n",
    "            writer.writerow([line.strip(), count_vector, probability_vector])\n",
    "\n",
    "    return ('output.csv')\n",
    "\n",
    "create_count_and_probability(\"corpus.txt\")\n"
   ]
  },
  {
   "cell_type": "markdown",
   "metadata": {},
   "source": [
    "# Task 4"
   ]
  },
  {
   "cell_type": "code",
   "execution_count": 11,
   "metadata": {},
   "outputs": [
    {
     "data": {
      "text/html": [
       "<div>\n",
       "<style scoped>\n",
       "    .dataframe tbody tr th:only-of-type {\n",
       "        vertical-align: middle;\n",
       "    }\n",
       "\n",
       "    .dataframe tbody tr th {\n",
       "        vertical-align: top;\n",
       "    }\n",
       "\n",
       "    .dataframe thead th {\n",
       "        text-align: right;\n",
       "    }\n",
       "</style>\n",
       "<table border=\"1\" class=\"dataframe\">\n",
       "  <thead>\n",
       "    <tr style=\"text-align: right;\">\n",
       "      <th></th>\n",
       "      <th>Document</th>\n",
       "      <th>Class</th>\n",
       "    </tr>\n",
       "  </thead>\n",
       "  <tbody>\n",
       "    <tr>\n",
       "      <th>0</th>\n",
       "      <td>PM denies knowledge of AWB kickbacks</td>\n",
       "      <td>rural</td>\n",
       "    </tr>\n",
       "    <tr>\n",
       "      <th>1</th>\n",
       "      <td>The Prime Minister has denied he knew AWB was ...</td>\n",
       "      <td>rural</td>\n",
       "    </tr>\n",
       "    <tr>\n",
       "      <th>2</th>\n",
       "      <td>Letters from John Howard and Deputy Prime Mini...</td>\n",
       "      <td>rural</td>\n",
       "    </tr>\n",
       "    <tr>\n",
       "      <th>3</th>\n",
       "      <td>In one of the letters Mr Howard asks AWB manag...</td>\n",
       "      <td>rural</td>\n",
       "    </tr>\n",
       "    <tr>\n",
       "      <th>4</th>\n",
       "      <td>The Opposition's Gavan O'Connor says the lette...</td>\n",
       "      <td>rural</td>\n",
       "    </tr>\n",
       "  </tbody>\n",
       "</table>\n",
       "</div>"
      ],
      "text/plain": [
       "                                            Document  Class\n",
       "0               PM denies knowledge of AWB kickbacks  rural\n",
       "1  The Prime Minister has denied he knew AWB was ...  rural\n",
       "2  Letters from John Howard and Deputy Prime Mini...  rural\n",
       "3  In one of the letters Mr Howard asks AWB manag...  rural\n",
       "4  The Opposition's Gavan O'Connor says the lette...  rural"
      ]
     },
     "execution_count": 11,
     "metadata": {},
     "output_type": "execute_result"
    }
   ],
   "source": [
    "import pandas as pd\n",
    "\n",
    "# Load and label data\n",
    "def load_data(file_path, label):\n",
    "    with open(file_path, 'r') as file:\n",
    "        documents = file.readlines()\n",
    "    return pd.DataFrame({'Document': [doc.strip() for doc in documents], 'Class': label})\n",
    "\n",
    "# Load rural and science datasets\n",
    "rural_df = load_data('rural.txt', 'rural')\n",
    "science_df = load_data('science.txt', 'science')\n",
    "\n",
    "# Combine into a single DataFrame\n",
    "data_df = pd.concat([rural_df, science_df], ignore_index=True)\n",
    "data_df.head()"
   ]
  },
  {
   "cell_type": "code",
   "execution_count": 14,
   "metadata": {},
   "outputs": [
    {
     "data": {
      "image/png": "[encoded data removed]",
      "text/plain": [
       "<Figure size 1000x500 with 1 Axes>"
      ]
     },
     "metadata": {},
     "output_type": "display_data"
    },
    {
     "data": {
      "image/png": "[encoded data removed]",
      "text/plain": [
       "<Figure size 1000x500 with 1 Axes>"
      ]
     },
     "metadata": {},
     "output_type": "display_data"
    }
   ],
   "source": [
    "from sklearn.feature_extraction.text import CountVectorizer\n",
    "import matplotlib.pyplot as plt\n",
    "\n",
    "# Remove stop words and calculate word frequency\n",
    "def plot_word_frequency(df, label):\n",
    "    # Filter data by class label\n",
    "    texts = df[df['Class'] == label]['Document']\n",
    "    # Vectorize without stop words\n",
    "    vectorizer = CountVectorizer(stop_words='english')\n",
    "    word_counts = vectorizer.fit_transform(texts)\n",
    "    word_freq = word_counts.sum(axis=0).A1  # Get total frequency for each word\n",
    "    \n",
    "    # Convert to DataFrame for plotting\n",
    "    freq_df = pd.DataFrame({'word': vectorizer.get_feature_names_out(), 'count': word_freq})\n",
    "    freq_df = freq_df.sort_values(by='count', ascending=False).head(10) # Top 10 words\n",
    "    \n",
    "    # Plot\n",
    "    plt.figure(figsize=(10, 5))\n",
    "    plt.bar(freq_df['word'], freq_df['count'], color='blue' if label == 'rural' else 'green')\n",
    "    plt.title(f\"Top 10 Word Frequency in '{label}' Documents\")\n",
    "    plt.xlabel(\"Words\")\n",
    "    plt.ylabel(\"Frequency\")\n",
    "    plt.show()\n",
    "\n",
    "# Plot for both classes\n",
    "plot_word_frequency(data_df, 'rural')\n",
    "plot_word_frequency(data_df, 'science')\n"
   ]
  },
  {
   "cell_type": "code",
   "execution_count": 16,
   "metadata": {},
   "outputs": [
    {
     "name": "stdout",
     "output_type": "stream",
     "text": [
      "GaussianNB with One-Hot Vectorization Accuracy: 0.917\n",
      "LogisticRegression with One-Hot Vectorization Accuracy: 0.893\n",
      "GaussianNB with Count Vectorization Accuracy: 0.911\n",
      "LogisticRegression with Count Vectorization Accuracy: 0.890\n"
     ]
    }
   ],
   "source": [
    "from sklearn.model_selection import train_test_split\n",
    "from sklearn.naive_bayes import GaussianNB\n",
    "from sklearn.linear_model import LogisticRegression\n",
    "from sklearn.metrics import accuracy_score\n",
    "from sklearn.feature_extraction.text import CountVectorizer\n",
    "\n",
    "# Split the data\n",
    "X_train, X_test, y_train, y_test = train_test_split(data_df['Document'], data_df['Class'], test_size=0.3, random_state=42)\n",
    "\n",
    "# Helper function to train and test classifiers\n",
    "def train_and_test(vectorizer, classifier_name):\n",
    "    # Fit and transform training data, transform test data\n",
    "    X_train_vect = vectorizer.fit_transform(X_train)\n",
    "    X_test_vect = vectorizer.transform(X_test)\n",
    "    \n",
    "    if classifier_name == 'GaussianNB':\n",
    "        model = GaussianNB()\n",
    "        X_train_vect = X_train_vect.toarray()  # Convert to dense matrix for GaussianNB\n",
    "        X_test_vect = X_test_vect.toarray()\n",
    "    else:\n",
    "        model = LogisticRegression(max_iter=1000)\n",
    "    \n",
    "    # Train and predict\n",
    "    model.fit(X_train_vect, y_train)\n",
    "    y_pred = model.predict(X_test_vect)\n",
    "    accuracy = accuracy_score(y_test, y_pred)\n",
    "    print(f\"{classifier_name} with {'One-Hot' if vectorizer.binary else 'Count'} Vectorization Accuracy: {accuracy:.3f}\")\n",
    "\n",
    "# One-Hot Encoding and Count Vectorization with both classifiers\n",
    "one_hot_vectorizer = CountVectorizer(binary=True, stop_words='english')\n",
    "count_vectorizer = CountVectorizer(binary=False, stop_words='english')\n",
    "\n",
    "train_and_test(one_hot_vectorizer, 'GaussianNB')\n",
    "train_and_test(one_hot_vectorizer, 'LogisticRegression')\n",
    "train_and_test(count_vectorizer, 'GaussianNB')\n",
    "train_and_test(count_vectorizer, 'LogisticRegression')\n"
   ]
  },
  {
   "cell_type": "code",
   "execution_count": null,
   "metadata": {},
   "outputs": [],
   "source": []
  }
 ],
 "metadata": {
  "kernelspec": {
   "display_name": ".venv",
   "language": "python",
   "name": "python3"
  },
  "language_info": {
   "codemirror_mode": {
    "name": "ipython",
    "version": 3
   },
   "file_extension": ".py",
   "mimetype": "text/x-python",
   "name": "python",
   "nbconvert_exporter": "python",
   "pygments_lexer": "ipython3",
   "version": "3.10.12"
  }
 },
 "nbformat": 4,
 "nbformat_minor": 2
}
