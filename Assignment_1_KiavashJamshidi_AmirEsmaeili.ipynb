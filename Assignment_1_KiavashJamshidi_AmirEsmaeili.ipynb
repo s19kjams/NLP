{
 "cells": [
  {
   "cell_type": "markdown",
   "metadata": {},
   "source": [
    "* Amir Esmaeili, 50225893, s77aesma@uni-bonn.de\n",
    "* Kiavash Jamshidi, 50151853, s19kjams@uni-bonn.de"
   ]
  },
  {
   "cell_type": "markdown",
   "metadata": {},
   "source": [
    "### Task 1.1\n"
   ]
  },
  {
   "cell_type": "code",
   "execution_count": 1,
   "metadata": {
    "metadata": {}
   },
   "outputs": [],
   "source": [
    "import string\n",
    "\n",
    "def extract_words_tokens(any_string: str):\n",
    "    # Split the string into words. Don't consider special characters as words\n",
    "    words = [word for word in any_string.split() if word.strip(string.punctuation)]\n",
    "    print(\"Words: \", words)\n",
    "    num_words = len(words)\n",
    "\n",
    "    # Perform character-based tokenization, excluding whitespace\n",
    "    tokens = [char for char in any_string if char != ' ']  # Exclude spaces\n",
    "    print(\"Tokens: \", tokens)\n",
    "    num_tokens = len(tokens)\n",
    "\n",
    "    return(print(any_string, \":\", \"num_words:\", num_words, \"and\", \"num_tokens:\", num_tokens, \"respectively\"))"
   ]
  },
  {
   "cell_type": "code",
   "execution_count": 2,
   "metadata": {},
   "outputs": [
    {
     "name": "stdout",
     "output_type": "stream",
     "text": [
      "Words:  ['This', 'is', 'a', 'random', 'text!']\n",
      "Tokens:  ['T', 'h', 'i', 's', 'i', 's', 'a', 'r', 'a', 'n', 'd', 'o', 'm', 't', 'e', 'x', 't', '!']\n",
      " This is a random text!  : num_words: 5 and num_tokens: 18 respectively\n",
      "Words:  ['Hello', 'World!']\n",
      "Tokens:  ['H', 'e', 'l', 'l', 'o', 'W', 'o', 'r', 'l', 'd', '!']\n",
      "Hello World!  : num_words: 2 and num_tokens: 11 respectively\n",
      "Words:  ['How', 'you', 'doin']\n",
      "Tokens:  ['H', 'o', 'w', 'y', 'o', 'u', 'd', 'o', 'i', 'n', '?']\n",
      "How you doin ? : num_words: 3 and num_tokens: 11 respectively\n"
     ]
    }
   ],
   "source": [
    "texts = [\n",
    "    \" This is a random text! \",\n",
    "    \"Hello World! \",\n",
    "    \"How you doin ?\"\n",
    "]\n",
    "\n",
    "for t in texts:\n",
    "    extract_words_tokens(t)"
   ]
  },
  {
   "cell_type": "markdown",
   "metadata": {},
   "source": [
    "### Task 1.2"
   ]
  },
  {
   "cell_type": "code",
   "execution_count": 3,
   "metadata": {
    "metadata": {}
   },
   "outputs": [],
   "source": [
    "import os\n",
    "from typing import Union\n",
    "\n",
    "\n",
    "def lemmatize(any_string: str, file_name: Union[str, os.PathLike]):\n",
    "    lemma_dict = {}\n",
    "\n",
    "    # Read the file and store a dictionary of words and their lemmas\n",
    "    with open(file_name, 'r', encoding=\"utf-8-sig\") as file:\n",
    "        for line in file:\n",
    "            lemma, word_form = line.strip().split(\"\\t\")\n",
    "            lemma_dict[word_form] = lemma\n",
    "    \n",
    "    input_words = any_string.split()\n",
    "    \n",
    "    dictionary_of_lemmatized_words = {}\n",
    "    for word in input_words:\n",
    "        # Get words without any other characters\n",
    "        word_without_special_characters = ''.join(e for e in word if e.isalnum())\n",
    "        lower_word_without_special_characters = word_without_special_characters.lower()\n",
    "        dictionary_of_lemmatized_words[word_without_special_characters] = lemma_dict.get(lower_word_without_special_characters, lower_word_without_special_characters)\n",
    "    \n",
    "    return dictionary_of_lemmatized_words"
   ]
  },
  {
   "cell_type": "code",
   "execution_count": 4,
   "metadata": {},
   "outputs": [
    {
     "data": {
      "text/plain": [
       "{'This': 'this',\n",
       " 'is': 'be',\n",
       " 'a': 'a',\n",
       " 'sample': 'sample',\n",
       " 'text': 'text',\n",
       " 'to': 'to',\n",
       " 'be': 'be',\n",
       " 'used': 'use',\n",
       " 'by': 'by',\n",
       " 'the': 'the',\n",
       " 'lemmatize': 'lemmatize',\n",
       " 'function': 'function',\n",
       " 'How': 'how',\n",
       " 'are': 'be',\n",
       " 'you': 'you',\n",
       " 'doing': 'do'}"
      ]
     },
     "execution_count": 4,
     "metadata": {},
     "output_type": "execute_result"
    }
   ],
   "source": [
    "test_text = \"This is a sample text to be used by the lemmatize function. How are you doing?\"\n",
    "\n",
    "lemmatize(test_text, \"lemmatization-en.txt\")"
   ]
  },
  {
   "cell_type": "markdown",
   "metadata": {},
   "source": [
    "### Task 2"
   ]
  },
  {
   "cell_type": "code",
   "execution_count": 5,
   "metadata": {},
   "outputs": [
    {
     "data": {
      "text/html": [
       "<div>\n",
       "<style scoped>\n",
       "    .dataframe tbody tr th:only-of-type {\n",
       "        vertical-align: middle;\n",
       "    }\n",
       "\n",
       "    .dataframe tbody tr th {\n",
       "        vertical-align: top;\n",
       "    }\n",
       "\n",
       "    .dataframe thead th {\n",
       "        text-align: right;\n",
       "    }\n",
       "</style>\n",
       "<table border=\"1\" class=\"dataframe\">\n",
       "  <thead>\n",
       "    <tr style=\"text-align: right;\">\n",
       "      <th></th>\n",
       "      <th>Text</th>\n",
       "      <th>Label</th>\n",
       "    </tr>\n",
       "  </thead>\n",
       "  <tbody>\n",
       "    <tr>\n",
       "      <th>0</th>\n",
       "      <td>every now and then a movie comes along from a ...</td>\n",
       "      <td>pos</td>\n",
       "    </tr>\n",
       "    <tr>\n",
       "      <th>1</th>\n",
       "      <td>mtv films' _election , a high school comedy st...</td>\n",
       "      <td>pos</td>\n",
       "    </tr>\n",
       "    <tr>\n",
       "      <th>2</th>\n",
       "      <td>did anybody know this film existed a week befo...</td>\n",
       "      <td>pos</td>\n",
       "    </tr>\n",
       "    <tr>\n",
       "      <th>3</th>\n",
       "      <td>the plot is deceptively simple .</td>\n",
       "      <td>pos</td>\n",
       "    </tr>\n",
       "    <tr>\n",
       "      <th>4</th>\n",
       "      <td>george washington carver high school is having...</td>\n",
       "      <td>pos</td>\n",
       "    </tr>\n",
       "  </tbody>\n",
       "</table>\n",
       "</div>"
      ],
      "text/plain": [
       "                                                Text Label\n",
       "0  every now and then a movie comes along from a ...   pos\n",
       "1  mtv films' _election , a high school comedy st...   pos\n",
       "2  did anybody know this film existed a week befo...   pos\n",
       "3                  the plot is deceptively simple .    pos\n",
       "4  george washington carver high school is having...   pos"
      ]
     },
     "execution_count": 5,
     "metadata": {},
     "output_type": "execute_result"
    }
   ],
   "source": [
    "import pandas as pd\n",
    "\n",
    "\n",
    "column_names = [\"Text\", \"Label\"]\n",
    "polarity_df = pd.read_csv(\"./polarity.txt\", delimiter=\"\\t\", header=None, names=column_names)\n",
    "polarity_df.head()"
   ]
  },
  {
   "cell_type": "markdown",
   "metadata": {},
   "source": [
    "### Task 2.1"
   ]
  },
  {
   "cell_type": "markdown",
   "metadata": {},
   "source": [
    "The question asked to create a column and then drop the original one, I could do that\n",
    "```python\n",
    "polarity_df.drop(columns=[\"Label\"])\n",
    "```\n",
    "But this way is simpler with less steps."
   ]
  },
  {
   "cell_type": "code",
   "execution_count": 6,
   "metadata": {},
   "outputs": [
    {
     "data": {
      "text/html": [
       "<div>\n",
       "<style scoped>\n",
       "    .dataframe tbody tr th:only-of-type {\n",
       "        vertical-align: middle;\n",
       "    }\n",
       "\n",
       "    .dataframe tbody tr th {\n",
       "        vertical-align: top;\n",
       "    }\n",
       "\n",
       "    .dataframe thead th {\n",
       "        text-align: right;\n",
       "    }\n",
       "</style>\n",
       "<table border=\"1\" class=\"dataframe\">\n",
       "  <thead>\n",
       "    <tr style=\"text-align: right;\">\n",
       "      <th></th>\n",
       "      <th>Text</th>\n",
       "      <th>Label</th>\n",
       "    </tr>\n",
       "  </thead>\n",
       "  <tbody>\n",
       "    <tr>\n",
       "      <th>0</th>\n",
       "      <td>every now and then a movie comes along from a ...</td>\n",
       "      <td>1</td>\n",
       "    </tr>\n",
       "    <tr>\n",
       "      <th>1</th>\n",
       "      <td>mtv films' _election , a high school comedy st...</td>\n",
       "      <td>1</td>\n",
       "    </tr>\n",
       "    <tr>\n",
       "      <th>2</th>\n",
       "      <td>did anybody know this film existed a week befo...</td>\n",
       "      <td>1</td>\n",
       "    </tr>\n",
       "    <tr>\n",
       "      <th>3</th>\n",
       "      <td>the plot is deceptively simple .</td>\n",
       "      <td>1</td>\n",
       "    </tr>\n",
       "    <tr>\n",
       "      <th>4</th>\n",
       "      <td>george washington carver high school is having...</td>\n",
       "      <td>1</td>\n",
       "    </tr>\n",
       "  </tbody>\n",
       "</table>\n",
       "</div>"
      ],
      "text/plain": [
       "                                                Text  Label\n",
       "0  every now and then a movie comes along from a ...      1\n",
       "1  mtv films' _election , a high school comedy st...      1\n",
       "2  did anybody know this film existed a week befo...      1\n",
       "3                  the plot is deceptively simple .       1\n",
       "4  george washington carver high school is having...      1"
      ]
     },
     "execution_count": 6,
     "metadata": {},
     "output_type": "execute_result"
    }
   ],
   "source": [
    "mapping = {\n",
    "    \"pos\": 1,\n",
    "    \"neg\": 0\n",
    "}\n",
    "\n",
    "polarity_df[\"Label\"] = polarity_df[\"Label\"].apply(lambda r: mapping[r])\n",
    "polarity_df.head()"
   ]
  },
  {
   "cell_type": "markdown",
   "metadata": {},
   "source": [
    "### Task 3"
   ]
  },
  {
   "cell_type": "markdown",
   "metadata": {},
   "source": [
    "Based on the example in the question:\n",
    "1. List all unique words and sort them alphabetically\n",
    "2. Create a counter for words in the whole corpus\n",
    "3. Count vector should contain all words in the corpus, not each line\n",
    "4. Probability should only contain words in individual lines"
   ]
  },
  {
   "cell_type": "code",
   "execution_count": 7,
   "metadata": {
    "metadata": {}
   },
   "outputs": [
    {
     "data": {
      "text/plain": [
       "'output.csv'"
      ]
     },
     "execution_count": 7,
     "metadata": {},
     "output_type": "execute_result"
    }
   ],
   "source": [
    "import re\n",
    "import csv\n",
    "from collections import Counter\n",
    "\n",
    "def create_count_and_probability(file_name: Union[str, os.PathLike]) -> str:\n",
    "    with open(file_name, 'r') as file:\n",
    "        lines = file.readlines()\n",
    "    \n",
    "    # First we need to find how many unique words are there in the document\n",
    "    unique_words = set(re.findall(r\"[\\w']+\", ''.join(lines).lower()))\n",
    "    unique_words = sorted(unique_words)\n",
    "    # Initialize a dictionary for holding indices of each word in the count vector\n",
    "    word_indices = {word: index for index, word in enumerate(unique_words)}\n",
    "\n",
    "    # Prepare a list to hold the output data\n",
    "    output_data = []\n",
    "\n",
    "    # Iterate over each line in the file\n",
    "    for line in lines:\n",
    "        # Split the line into words\n",
    "        words = re.findall(r\"[\\w']+\", line.lower())\n",
    "\n",
    "        count_vector = [0] * len(unique_words)\n",
    "        for word in words:\n",
    "            # update count vector\n",
    "            count_vector[word_indices[word]] += 1\n",
    "\n",
    "        # Calculate the probability of each word in the line\n",
    "        probability = [0] * len(words)\n",
    "        for i, word in enumerate(words):\n",
    "            probability[i] = count_vector[word_indices[word]] / len(words)\n",
    "        \n",
    "        output_data.append([line.strip(), count_vector, probability])\n",
    "    \n",
    "    # Write the output to a CSV file\n",
    "    output_file_name = 'output.csv'\n",
    "    with open(output_file_name, 'w', newline='') as csvfile:\n",
    "        csv_writer = csv.writer(csvfile)\n",
    "        csv_writer.writerow(['Text', 'Count_Vector', 'Probability'])  # Header\n",
    "        csv_writer.writerows(output_data)\n",
    "    \n",
    "    return output_file_name\n",
    "\n",
    "create_count_and_probability(\"./corpus.txt\")"
   ]
  },
  {
   "cell_type": "markdown",
   "metadata": {},
   "source": [
    "# Task 4"
   ]
  },
  {
   "cell_type": "code",
   "execution_count": 8,
   "metadata": {},
   "outputs": [
    {
     "data": {
      "text/html": [
       "<div>\n",
       "<style scoped>\n",
       "    .dataframe tbody tr th:only-of-type {\n",
       "        vertical-align: middle;\n",
       "    }\n",
       "\n",
       "    .dataframe tbody tr th {\n",
       "        vertical-align: top;\n",
       "    }\n",
       "\n",
       "    .dataframe thead th {\n",
       "        text-align: right;\n",
       "    }\n",
       "</style>\n",
       "<table border=\"1\" class=\"dataframe\">\n",
       "  <thead>\n",
       "    <tr style=\"text-align: right;\">\n",
       "      <th></th>\n",
       "      <th>Document</th>\n",
       "      <th>Class</th>\n",
       "    </tr>\n",
       "  </thead>\n",
       "  <tbody>\n",
       "    <tr>\n",
       "      <th>0</th>\n",
       "      <td>Wright says his findings do not get doctors of...</td>\n",
       "      <td>science</td>\n",
       "    </tr>\n",
       "    <tr>\n",
       "      <th>1</th>\n",
       "      <td>The discovery of OGLE-2005-BLG-390Lb also back...</td>\n",
       "      <td>science</td>\n",
       "    </tr>\n",
       "    <tr>\n",
       "      <th>2</th>\n",
       "      <td>Mr Geary said he had forwarded the email to tw...</td>\n",
       "      <td>rural</td>\n",
       "    </tr>\n",
       "    <tr>\n",
       "      <th>3</th>\n",
       "      <td>Wright's team dug up 480 strains of streptomyc...</td>\n",
       "      <td>science</td>\n",
       "    </tr>\n",
       "    <tr>\n",
       "      <th>4</th>\n",
       "      <td>Chicago wheat futures have dropped more than 3...</td>\n",
       "      <td>rural</td>\n",
       "    </tr>\n",
       "    <tr>\n",
       "      <th>5</th>\n",
       "      <td>AWB's national pool manager David Johnson deni...</td>\n",
       "      <td>rural</td>\n",
       "    </tr>\n",
       "    <tr>\n",
       "      <th>6</th>\n",
       "      <td>A southern Queensland cattle farmer says a kne...</td>\n",
       "      <td>rural</td>\n",
       "    </tr>\n",
       "    <tr>\n",
       "      <th>7</th>\n",
       "      <td>The fatality rate is \"striking\" when compared ...</td>\n",
       "      <td>science</td>\n",
       "    </tr>\n",
       "    <tr>\n",
       "      <th>8</th>\n",
       "      <td>Steve Ellison from the Northern Territory Live...</td>\n",
       "      <td>rural</td>\n",
       "    </tr>\n",
       "    <tr>\n",
       "      <th>9</th>\n",
       "      <td>Outdoor coatings could benefit too</td>\n",
       "      <td>science</td>\n",
       "    </tr>\n",
       "  </tbody>\n",
       "</table>\n",
       "</div>"
      ],
      "text/plain": [
       "                                            Document    Class\n",
       "0  Wright says his findings do not get doctors of...  science\n",
       "1  The discovery of OGLE-2005-BLG-390Lb also back...  science\n",
       "2  Mr Geary said he had forwarded the email to tw...    rural\n",
       "3  Wright's team dug up 480 strains of streptomyc...  science\n",
       "4  Chicago wheat futures have dropped more than 3...    rural\n",
       "5  AWB's national pool manager David Johnson deni...    rural\n",
       "6  A southern Queensland cattle farmer says a kne...    rural\n",
       "7  The fatality rate is \"striking\" when compared ...  science\n",
       "8  Steve Ellison from the Northern Territory Live...    rural\n",
       "9                 Outdoor coatings could benefit too  science"
      ]
     },
     "execution_count": 8,
     "metadata": {},
     "output_type": "execute_result"
    }
   ],
   "source": [
    "import pandas as pd\n",
    "\n",
    "# this helps results stay the same\n",
    "seed = 1717\n",
    "\n",
    "\n",
    "# Load and label data\n",
    "def load_data(file_path: Union[str, os.PathLike], label: str) -> pd.DataFrame:\n",
    "    with open(file_path, 'r') as file:\n",
    "        documents = file.readlines()\n",
    "    return pd.DataFrame({'Document': [doc.strip() for doc in documents], 'Class': label})\n",
    "\n",
    "# Load rural and science datasets\n",
    "rural_df = load_data('rural.txt', 'rural')\n",
    "science_df = load_data('science.txt', 'science')\n",
    "\n",
    "# Combine into a single DataFrame\n",
    "data_df = pd.concat([rural_df, science_df], ignore_index=True)\n",
    "# shuffle data -> Avoiding bias in dataset\n",
    "data_df = data_df.sample(frac=1, random_state=seed).reset_index(drop=True)  # This creates 100% sample, shuffling it.\n",
    "data_df.head(10)"
   ]
  },
  {
   "cell_type": "markdown",
   "metadata": {},
   "source": [
    "Since the document didn't say I have to use my own function, I used the one from libraries for\n",
    "CountVector. \n",
    "\n",
    "I could also use nltk for removing stop words, but the document said I should use sklearn and pandas. However, I had to use matpllib for plotting."
   ]
  },
  {
   "cell_type": "code",
   "execution_count": 9,
   "metadata": {},
   "outputs": [
    {
     "data": {
      "image/png": "[encoded data removed]",
      "text/plain": [
       "<Figure size 2000x500 with 1 Axes>"
      ]
     },
     "metadata": {},
     "output_type": "display_data"
    },
    {
     "data": {
      "image/png": "[encoded data removed]",
      "text/plain": [
       "<Figure size 2000x500 with 1 Axes>"
      ]
     },
     "metadata": {},
     "output_type": "display_data"
    }
   ],
   "source": [
    "from sklearn.feature_extraction.text import CountVectorizer\n",
    "import matplotlib.pyplot as plt\n",
    "\n",
    "\n",
    "# Remove stop words and calculate word frequency\n",
    "def plot_word_frequency(df: pd.DataFrame, label: str) -> None:\n",
    "    # Filter data by class label\n",
    "    texts = df[df['Class'] == label]['Document']\n",
    "    # Vectorize without stop words\n",
    "    vectorizer = CountVectorizer(stop_words='english')\n",
    "    word_counts = vectorizer.fit_transform(texts)\n",
    "    word_freq = word_counts.sum(axis=0).A1  # Get total frequency for each word\n",
    "    \n",
    "    # Convert to DataFrame for plotting\n",
    "    freq_df = pd.DataFrame({'word': vectorizer.get_feature_names_out(), 'count': word_freq})\n",
    "    freq_df = freq_df.sort_values(by='count', ascending=False).head(20) # Top 20 words\n",
    "    \n",
    "    # Plot\n",
    "    plt.figure(figsize=(20, 5))\n",
    "    plt.bar(freq_df['word'], freq_df['count'], color='blue' if label == 'rural' else 'green')\n",
    "    plt.title(f\"Top 20 Word Frequency in '{label}' Documents\")\n",
    "    plt.xlabel(\"Words\")\n",
    "    plt.ylabel(\"Frequency\")\n",
    "    plt.show()\n",
    "\n",
    "# Plot for both classes\n",
    "plot_word_frequency(data_df, 'rural')\n",
    "plot_word_frequency(data_df, 'science')\n"
   ]
  },
  {
   "cell_type": "code",
   "execution_count": 37,
   "metadata": {},
   "outputs": [
    {
     "name": "stdout",
     "output_type": "stream",
     "text": [
      "GaussianNB with One-Hot Vectorization Accuracy: 0.914\n",
      "LogisticRegression with One-Hot Vectorization Accuracy: 0.908\n",
      "GaussianNB with Count Vectorization Accuracy: 0.911\n",
      "LogisticRegression with Count Vectorization Accuracy: 0.902\n"
     ]
    }
   ],
   "source": [
    "from sklearn.model_selection import train_test_split\n",
    "from sklearn.naive_bayes import GaussianNB\n",
    "from sklearn.linear_model import LogisticRegression\n",
    "from sklearn.metrics import accuracy_score\n",
    "from sklearn.feature_extraction.text import CountVectorizer\n",
    "\n",
    "# Split the data\n",
    "X_train, X_test, y_train, y_test = train_test_split(data_df['Document'], data_df['Class'], test_size=0.3, random_state=seed)\n",
    "\n",
    "# Helper function to train and test classifiers\n",
    "def train_and_test(vectorizer, classifier_name):\n",
    "    # Fit and transform training data, transform test data\n",
    "    X_train_vect = vectorizer.fit_transform(X_train)\n",
    "    X_test_vect = vectorizer.transform(X_test)\n",
    "    \n",
    "    if classifier_name == 'GaussianNB':\n",
    "        model = GaussianNB()\n",
    "        X_train_vect = X_train_vect.toarray()  # Convert to dense matrix for GaussianNB\n",
    "        X_test_vect = X_test_vect.toarray()\n",
    "    else:\n",
    "        model = LogisticRegression(max_iter=1000)\n",
    "    \n",
    "    # Train and predict\n",
    "    model.fit(X_train_vect, y_train)\n",
    "    y_pred = model.predict(X_test_vect)\n",
    "    accuracy = accuracy_score(y_test, y_pred)\n",
    "    print(f\"{classifier_name} with {'One-Hot' if vectorizer.binary else 'Count'} Vectorization Accuracy: {accuracy:.3f}\")\n",
    "\n",
    "# One-Hot Encoding and Count Vectorization with both classifiers\n",
    "one_hot_vectorizer = CountVectorizer(binary=True, stop_words='english')\n",
    "count_vectorizer = CountVectorizer(binary=False, stop_words='english')\n",
    "\n",
    "train_and_test(one_hot_vectorizer, 'GaussianNB')\n",
    "train_and_test(one_hot_vectorizer, 'LogisticRegression')\n",
    "train_and_test(count_vectorizer, 'GaussianNB')\n",
    "train_and_test(count_vectorizer, 'LogisticRegression')\n"
   ]
  },
  {
   "cell_type": "code",
   "execution_count": null,
   "metadata": {},
   "outputs": [],
   "source": []
  }
 ],
 "metadata": {
  "kernelspec": {
   "display_name": ".venv",
   "language": "python",
   "name": "python3"
  },
  "language_info": {
   "codemirror_mode": {
    "name": "ipython",
    "version": 3
   },
   "file_extension": ".py",
   "mimetype": "text/x-python",
   "name": "python",
   "nbconvert_exporter": "python",
   "pygments_lexer": "ipython3",
   "version": "3.10.12"
  }
 },
 "nbformat": 4,
 "nbformat_minor": 2
}
