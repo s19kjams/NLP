{
 "cells": [
  {
   "cell_type": "markdown",
   "metadata": {},
   "source": [
    "* Amir Esmaeili, 50225893, s77aesma@uni-bonn.de\n",
    "* Kiavash Jamshidi, 50151853, s19kjams@uni-bonn.de"
   ]
  },
  {
   "cell_type": "markdown",
   "metadata": {},
   "source": [
    "### Project Setup\n",
    "Installation Instructions\n",
    "Follow these steps to set up the environment and install the required dependencies.\n",
    "\n",
    "### Step 1: Install Dependencies\n",
    "First, make sure you have all the necessary packages installed. Run the following command to install the dependencies listed in requirements.txt:\n"
   ]
  },
  {
   "cell_type": "code",
   "execution_count": 38,
   "metadata": {},
   "outputs": [
    {
     "name": "stdout",
     "output_type": "stream",
     "text": [
      "Requirement already satisfied: spacy in /Users/kiavashjamshidi/Desktop/courses/NLP/assignment/.venv/lib/python3.12/site-packages (3.8.2)\n",
      "Requirement already satisfied: spacy-legacy<3.1.0,>=3.0.11 in /Users/kiavashjamshidi/Desktop/courses/NLP/assignment/.venv/lib/python3.12/site-packages (from spacy) (3.0.12)\n",
      "Requirement already satisfied: spacy-loggers<2.0.0,>=1.0.0 in /Users/kiavashjamshidi/Desktop/courses/NLP/assignment/.venv/lib/python3.12/site-packages (from spacy) (1.0.5)\n",
      "Requirement already satisfied: murmurhash<1.1.0,>=0.28.0 in /Users/kiavashjamshidi/Desktop/courses/NLP/assignment/.venv/lib/python3.12/site-packages (from spacy) (1.0.10)\n",
      "Requirement already satisfied: cymem<2.1.0,>=2.0.2 in /Users/kiavashjamshidi/Desktop/courses/NLP/assignment/.venv/lib/python3.12/site-packages (from spacy) (2.0.8)\n",
      "Requirement already satisfied: preshed<3.1.0,>=3.0.2 in /Users/kiavashjamshidi/Desktop/courses/NLP/assignment/.venv/lib/python3.12/site-packages (from spacy) (3.0.9)\n",
      "Requirement already satisfied: thinc<8.4.0,>=8.3.0 in /Users/kiavashjamshidi/Desktop/courses/NLP/assignment/.venv/lib/python3.12/site-packages (from spacy) (8.3.2)\n",
      "Requirement already satisfied: wasabi<1.2.0,>=0.9.1 in /Users/kiavashjamshidi/Desktop/courses/NLP/assignment/.venv/lib/python3.12/site-packages (from spacy) (1.1.3)\n",
      "Requirement already satisfied: srsly<3.0.0,>=2.4.3 in /Users/kiavashjamshidi/Desktop/courses/NLP/assignment/.venv/lib/python3.12/site-packages (from spacy) (2.4.8)\n",
      "Requirement already satisfied: catalogue<2.1.0,>=2.0.6 in /Users/kiavashjamshidi/Desktop/courses/NLP/assignment/.venv/lib/python3.12/site-packages (from spacy) (2.0.10)\n",
      "Requirement already satisfied: weasel<0.5.0,>=0.1.0 in /Users/kiavashjamshidi/Desktop/courses/NLP/assignment/.venv/lib/python3.12/site-packages (from spacy) (0.4.1)\n",
      "Requirement already satisfied: typer<1.0.0,>=0.3.0 in /Users/kiavashjamshidi/Desktop/courses/NLP/assignment/.venv/lib/python3.12/site-packages (from spacy) (0.13.0)\n",
      "Requirement already satisfied: tqdm<5.0.0,>=4.38.0 in /Users/kiavashjamshidi/Desktop/courses/NLP/assignment/.venv/lib/python3.12/site-packages (from spacy) (4.67.0)\n",
      "Requirement already satisfied: requests<3.0.0,>=2.13.0 in /Users/kiavashjamshidi/Desktop/courses/NLP/assignment/.venv/lib/python3.12/site-packages (from spacy) (2.32.3)\n",
      "Requirement already satisfied: pydantic!=1.8,!=1.8.1,<3.0.0,>=1.7.4 in /Users/kiavashjamshidi/Desktop/courses/NLP/assignment/.venv/lib/python3.12/site-packages (from spacy) (2.9.2)\n",
      "Requirement already satisfied: jinja2 in /Users/kiavashjamshidi/Desktop/courses/NLP/assignment/.venv/lib/python3.12/site-packages (from spacy) (3.1.4)\n",
      "Requirement already satisfied: setuptools in /Users/kiavashjamshidi/Desktop/courses/NLP/assignment/.venv/lib/python3.12/site-packages (from spacy) (75.3.0)\n",
      "Requirement already satisfied: packaging>=20.0 in /Users/kiavashjamshidi/Desktop/courses/NLP/assignment/.venv/lib/python3.12/site-packages (from spacy) (24.1)\n",
      "Requirement already satisfied: langcodes<4.0.0,>=3.2.0 in /Users/kiavashjamshidi/Desktop/courses/NLP/assignment/.venv/lib/python3.12/site-packages (from spacy) (3.4.1)\n",
      "Requirement already satisfied: numpy>=1.19.0 in /Users/kiavashjamshidi/Desktop/courses/NLP/assignment/.venv/lib/python3.12/site-packages (from spacy) (2.0.2)\n",
      "Requirement already satisfied: language-data>=1.2 in /Users/kiavashjamshidi/Desktop/courses/NLP/assignment/.venv/lib/python3.12/site-packages (from langcodes<4.0.0,>=3.2.0->spacy) (1.2.0)\n",
      "Requirement already satisfied: annotated-types>=0.6.0 in /Users/kiavashjamshidi/Desktop/courses/NLP/assignment/.venv/lib/python3.12/site-packages (from pydantic!=1.8,!=1.8.1,<3.0.0,>=1.7.4->spacy) (0.7.0)\n",
      "Requirement already satisfied: pydantic-core==2.23.4 in /Users/kiavashjamshidi/Desktop/courses/NLP/assignment/.venv/lib/python3.12/site-packages (from pydantic!=1.8,!=1.8.1,<3.0.0,>=1.7.4->spacy) (2.23.4)\n",
      "Requirement already satisfied: typing-extensions>=4.6.1 in /Users/kiavashjamshidi/Desktop/courses/NLP/assignment/.venv/lib/python3.12/site-packages (from pydantic!=1.8,!=1.8.1,<3.0.0,>=1.7.4->spacy) (4.12.2)\n",
      "Requirement already satisfied: charset-normalizer<4,>=2 in /Users/kiavashjamshidi/Desktop/courses/NLP/assignment/.venv/lib/python3.12/site-packages (from requests<3.0.0,>=2.13.0->spacy) (3.4.0)\n",
      "Requirement already satisfied: idna<4,>=2.5 in /Users/kiavashjamshidi/Desktop/courses/NLP/assignment/.venv/lib/python3.12/site-packages (from requests<3.0.0,>=2.13.0->spacy) (3.10)\n",
      "Requirement already satisfied: urllib3<3,>=1.21.1 in /Users/kiavashjamshidi/Desktop/courses/NLP/assignment/.venv/lib/python3.12/site-packages (from requests<3.0.0,>=2.13.0->spacy) (2.2.3)\n",
      "Requirement already satisfied: certifi>=2017.4.17 in /Users/kiavashjamshidi/Desktop/courses/NLP/assignment/.venv/lib/python3.12/site-packages (from requests<3.0.0,>=2.13.0->spacy) (2024.8.30)\n",
      "Requirement already satisfied: blis<1.1.0,>=1.0.0 in /Users/kiavashjamshidi/Desktop/courses/NLP/assignment/.venv/lib/python3.12/site-packages (from thinc<8.4.0,>=8.3.0->spacy) (1.0.1)\n",
      "Requirement already satisfied: confection<1.0.0,>=0.0.1 in /Users/kiavashjamshidi/Desktop/courses/NLP/assignment/.venv/lib/python3.12/site-packages (from thinc<8.4.0,>=8.3.0->spacy) (0.1.5)\n",
      "Requirement already satisfied: click>=8.0.0 in /Users/kiavashjamshidi/Desktop/courses/NLP/assignment/.venv/lib/python3.12/site-packages (from typer<1.0.0,>=0.3.0->spacy) (8.1.7)\n",
      "Requirement already satisfied: shellingham>=1.3.0 in /Users/kiavashjamshidi/Desktop/courses/NLP/assignment/.venv/lib/python3.12/site-packages (from typer<1.0.0,>=0.3.0->spacy) (1.5.4)\n",
      "Requirement already satisfied: rich>=10.11.0 in /Users/kiavashjamshidi/Desktop/courses/NLP/assignment/.venv/lib/python3.12/site-packages (from typer<1.0.0,>=0.3.0->spacy) (13.9.4)\n",
      "Requirement already satisfied: cloudpathlib<1.0.0,>=0.7.0 in /Users/kiavashjamshidi/Desktop/courses/NLP/assignment/.venv/lib/python3.12/site-packages (from weasel<0.5.0,>=0.1.0->spacy) (0.20.0)\n",
      "Requirement already satisfied: smart-open<8.0.0,>=5.2.1 in /Users/kiavashjamshidi/Desktop/courses/NLP/assignment/.venv/lib/python3.12/site-packages (from weasel<0.5.0,>=0.1.0->spacy) (7.0.5)\n",
      "Requirement already satisfied: MarkupSafe>=2.0 in /Users/kiavashjamshidi/Desktop/courses/NLP/assignment/.venv/lib/python3.12/site-packages (from jinja2->spacy) (3.0.2)\n",
      "Requirement already satisfied: marisa-trie>=0.7.7 in /Users/kiavashjamshidi/Desktop/courses/NLP/assignment/.venv/lib/python3.12/site-packages (from language-data>=1.2->langcodes<4.0.0,>=3.2.0->spacy) (1.2.1)\n",
      "Requirement already satisfied: markdown-it-py>=2.2.0 in /Users/kiavashjamshidi/Desktop/courses/NLP/assignment/.venv/lib/python3.12/site-packages (from rich>=10.11.0->typer<1.0.0,>=0.3.0->spacy) (3.0.0)\n",
      "Requirement already satisfied: pygments<3.0.0,>=2.13.0 in /Users/kiavashjamshidi/Desktop/courses/NLP/assignment/.venv/lib/python3.12/site-packages (from rich>=10.11.0->typer<1.0.0,>=0.3.0->spacy) (2.18.0)\n",
      "Requirement already satisfied: wrapt in /Users/kiavashjamshidi/Desktop/courses/NLP/assignment/.venv/lib/python3.12/site-packages (from smart-open<8.0.0,>=5.2.1->weasel<0.5.0,>=0.1.0->spacy) (1.16.0)\n",
      "Requirement already satisfied: mdurl~=0.1 in /Users/kiavashjamshidi/Desktop/courses/NLP/assignment/.venv/lib/python3.12/site-packages (from markdown-it-py>=2.2.0->rich>=10.11.0->typer<1.0.0,>=0.3.0->spacy) (0.1.2)\n",
      "Requirement already satisfied: pandas in /Users/kiavashjamshidi/Desktop/courses/NLP/assignment/.venv/lib/python3.12/site-packages (2.2.3)\n",
      "Requirement already satisfied: numpy>=1.26.0 in /Users/kiavashjamshidi/Desktop/courses/NLP/assignment/.venv/lib/python3.12/site-packages (from pandas) (2.0.2)\n",
      "Requirement already satisfied: python-dateutil>=2.8.2 in /Users/kiavashjamshidi/Desktop/courses/NLP/assignment/.venv/lib/python3.12/site-packages (from pandas) (2.9.0.post0)\n",
      "Requirement already satisfied: pytz>=2020.1 in /Users/kiavashjamshidi/Desktop/courses/NLP/assignment/.venv/lib/python3.12/site-packages (from pandas) (2024.2)\n",
      "Requirement already satisfied: tzdata>=2022.7 in /Users/kiavashjamshidi/Desktop/courses/NLP/assignment/.venv/lib/python3.12/site-packages (from pandas) (2024.2)\n",
      "Requirement already satisfied: six>=1.5 in /Users/kiavashjamshidi/Desktop/courses/NLP/assignment/.venv/lib/python3.12/site-packages (from python-dateutil>=2.8.2->pandas) (1.16.0)\n",
      "Requirement already satisfied: seaborn in /Users/kiavashjamshidi/Desktop/courses/NLP/assignment/.venv/lib/python3.12/site-packages (0.13.2)\n",
      "Requirement already satisfied: numpy!=1.24.0,>=1.20 in /Users/kiavashjamshidi/Desktop/courses/NLP/assignment/.venv/lib/python3.12/site-packages (from seaborn) (2.0.2)\n",
      "Requirement already satisfied: pandas>=1.2 in /Users/kiavashjamshidi/Desktop/courses/NLP/assignment/.venv/lib/python3.12/site-packages (from seaborn) (2.2.3)\n",
      "Requirement already satisfied: matplotlib!=3.6.1,>=3.4 in /Users/kiavashjamshidi/Desktop/courses/NLP/assignment/.venv/lib/python3.12/site-packages (from seaborn) (3.9.2)\n",
      "Requirement already satisfied: contourpy>=1.0.1 in /Users/kiavashjamshidi/Desktop/courses/NLP/assignment/.venv/lib/python3.12/site-packages (from matplotlib!=3.6.1,>=3.4->seaborn) (1.3.0)\n",
      "Requirement already satisfied: cycler>=0.10 in /Users/kiavashjamshidi/Desktop/courses/NLP/assignment/.venv/lib/python3.12/site-packages (from matplotlib!=3.6.1,>=3.4->seaborn) (0.12.1)\n",
      "Requirement already satisfied: fonttools>=4.22.0 in /Users/kiavashjamshidi/Desktop/courses/NLP/assignment/.venv/lib/python3.12/site-packages (from matplotlib!=3.6.1,>=3.4->seaborn) (4.54.1)\n",
      "Requirement already satisfied: kiwisolver>=1.3.1 in /Users/kiavashjamshidi/Desktop/courses/NLP/assignment/.venv/lib/python3.12/site-packages (from matplotlib!=3.6.1,>=3.4->seaborn) (1.4.7)\n",
      "Requirement already satisfied: packaging>=20.0 in /Users/kiavashjamshidi/Desktop/courses/NLP/assignment/.venv/lib/python3.12/site-packages (from matplotlib!=3.6.1,>=3.4->seaborn) (24.1)\n",
      "Requirement already satisfied: pillow>=8 in /Users/kiavashjamshidi/Desktop/courses/NLP/assignment/.venv/lib/python3.12/site-packages (from matplotlib!=3.6.1,>=3.4->seaborn) (11.0.0)\n",
      "Requirement already satisfied: pyparsing>=2.3.1 in /Users/kiavashjamshidi/Desktop/courses/NLP/assignment/.venv/lib/python3.12/site-packages (from matplotlib!=3.6.1,>=3.4->seaborn) (3.2.0)\n",
      "Requirement already satisfied: python-dateutil>=2.7 in /Users/kiavashjamshidi/Desktop/courses/NLP/assignment/.venv/lib/python3.12/site-packages (from matplotlib!=3.6.1,>=3.4->seaborn) (2.9.0.post0)\n",
      "Requirement already satisfied: pytz>=2020.1 in /Users/kiavashjamshidi/Desktop/courses/NLP/assignment/.venv/lib/python3.12/site-packages (from pandas>=1.2->seaborn) (2024.2)\n",
      "Requirement already satisfied: tzdata>=2022.7 in /Users/kiavashjamshidi/Desktop/courses/NLP/assignment/.venv/lib/python3.12/site-packages (from pandas>=1.2->seaborn) (2024.2)\n",
      "Requirement already satisfied: six>=1.5 in /Users/kiavashjamshidi/Desktop/courses/NLP/assignment/.venv/lib/python3.12/site-packages (from python-dateutil>=2.7->matplotlib!=3.6.1,>=3.4->seaborn) (1.16.0)\n"
     ]
    }
   ],
   "source": [
    "!pip install spacy && pip install pandas && pip install seaborn\n"
   ]
  },
  {
   "cell_type": "markdown",
   "metadata": {},
   "source": [
    "### Step 2: Download SpaCy Language Model\n",
    "Next, download the English language model for SpaCy, which is required for natural language processing tasks such as tokenization and lemmatization. You can do this with the following command:"
   ]
  },
  {
   "cell_type": "code",
   "execution_count": 39,
   "metadata": {},
   "outputs": [
    {
     "name": "stdout",
     "output_type": "stream",
     "text": [
      "Collecting en-core-web-sm==3.8.0\n",
      "  Downloading https://github.com/explosion/spacy-models/releases/download/en_core_web_sm-3.8.0/en_core_web_sm-3.8.0-py3-none-any.whl (12.8 MB)\n",
      "\u001b[2K     \u001b[90m━━━━━━━━━━━━━━━━━━━━━━━━━━━━━━━━━━━━━━━━\u001b[0m \u001b[32m12.8/12.8 MB\u001b[0m \u001b[31m7.9 MB/s\u001b[0m eta \u001b[36m0:00:00\u001b[0ma \u001b[36m0:00:01\u001b[0m\n",
      "\u001b[?25h\u001b[38;5;2m✔ Download and installation successful\u001b[0m\n",
      "You can now load the package via spacy.load('en_core_web_sm')\n"
     ]
    }
   ],
   "source": [
    "!python -m spacy download en_core_web_sm"
   ]
  },
  {
   "cell_type": "markdown",
   "metadata": {},
   "source": [
    "### Task 1 (2 points)\n",
    "This function, extract_proper_nouns, takes a file name as input, reads its content,\n",
    "and returns a list of multi-word proper nouns found in the text.\n",
    "It uses scikit-learn's CountVectorizer to split the text into tokens (words).\n",
    "The function then identifies sequences of words that start with an uppercase letter,\n",
    "considering them as proper nouns if they contain more than one consecutive word.\n",
    "Finally, it returns a list of these multi-word proper nouns.\n"
   ]
  },
  {
   "cell_type": "code",
   "execution_count": 33,
   "metadata": {},
   "outputs": [
    {
     "data": {
      "text/plain": [
       "[]"
      ]
     },
     "execution_count": 33,
     "metadata": {},
     "output_type": "execute_result"
    }
   ],
   "source": [
    "from sklearn.feature_extraction.text import CountVectorizer\n",
    "\n",
    "def extract_proper_nouns(my_file_name):\n",
    "    several_token_propn = []\n",
    "    \n",
    "    with open(my_file_name, 'r') as file:\n",
    "        text = file.read()\n",
    "    \n",
    "    vectorizer = CountVectorizer().build_tokenizer()\n",
    "    tokens = vectorizer(text)\n",
    "    \n",
    "    current_propn = []\n",
    "    for word in tokens:\n",
    "        if word[0].isupper():\n",
    "            current_propn.append(word)\n",
    "        else:\n",
    "            if len(current_propn) > 1:\n",
    "                several_token_propn.append(\" \".join(current_propn))\n",
    "            current_propn = []\n",
    "    \n",
    "    if len(current_propn) > 1:\n",
    "        several_token_propn.append(\" \".join(current_propn))\n",
    "    \n",
    "    return several_token_propn\n",
    "\n",
    "extract_proper_nouns(\"test.txt\")\n"
   ]
  },
  {
   "cell_type": "markdown",
   "metadata": {},
   "source": [
    "### Task 2"
   ]
  },
  {
   "cell_type": "markdown",
   "metadata": {},
   "source": [
    "# Common Lemma Extraction Function\n",
    "\n",
    "This notebook defines a function `common_lemma(my_file_name)` that processes a text file and returns a dictionary where:\n",
    "- **Key**: The lemma (root form) of the word.\n",
    "- **Value**: A list of words that share the same lemma and are either nouns or verbs.\n",
    "\n",
    "### Function Workflow:\n",
    "1. The function reads the input file and processes its content using the **spaCy** library.\n",
    "2. It tokenizes the text and checks if each token is either a **noun** or a **verb**.\n",
    "3. For each noun/verb, the function retrieves the lemma and groups the words that share the same lemma.\n",
    "4. It only includes lemmas that appear both as nouns and verbs in the text.\n"
   ]
  },
  {
   "cell_type": "code",
   "execution_count": 34,
   "metadata": {},
   "outputs": [
    {
     "data": {
      "text/plain": [
       "{'show': ['show', 'showing', 'showed']}"
      ]
     },
     "execution_count": 34,
     "metadata": {},
     "output_type": "execute_result"
    }
   ],
   "source": [
    "import spacy\n",
    "\n",
    "nlp = spacy.load(\"en_core_web_sm\")\n",
    "\n",
    "def common_lemma(my_file_name):\n",
    "    tokens_with_common_lemma = {}\n",
    "\n",
    "    with open(my_file_name, 'r') as file:\n",
    "        text = file.read()\n",
    "    doc = nlp(text)\n",
    "    for token in doc:\n",
    "        if token.pos_ in {\"NOUN\", \"VERB\"}:\n",
    "            lemma = token.lemma_\n",
    "            \n",
    "            if lemma not in tokens_with_common_lemma:\n",
    "                tokens_with_common_lemma[lemma] = []\n",
    "            \n",
    "            if token.text not in tokens_with_common_lemma[lemma]:\n",
    "                tokens_with_common_lemma[lemma].append(token.text)\n",
    "    \n",
    "    tokens_with_common_lemma = {lemma: words for lemma, words in tokens_with_common_lemma.items() \n",
    "                                if len(words) > 1}\n",
    "    \n",
    "    return tokens_with_common_lemma\n",
    "common_lemma(\"test.txt\")"
   ]
  },
  {
   "cell_type": "markdown",
   "metadata": {},
   "source": [
    "### Task 3"
   ]
  },
  {
   "cell_type": "markdown",
   "metadata": {},
   "source": [
    "### BBC News Dataset Loading\n",
    "\n",
    "This notebook demonstrates how to load and inspect the **BBC News dataset** using the **pandas** library.\n",
    "\n",
    "### Steps:\n",
    "1. The function loads the **`bbc-news.csv`** file into a **pandas DataFrame**.\n",
    "2. The first few rows of the dataset are displayed using `head()`, allowing us to preview the structure and content of the data.\n"
   ]
  },
  {
   "cell_type": "code",
   "execution_count": 35,
   "metadata": {},
   "outputs": [
    {
     "name": "stdout",
     "output_type": "stream",
     "text": [
      "        category                                               text\n",
      "0           tech  tv future in the hands of viewers with home th...\n",
      "1       business  worldcom boss  left books alone  former worldc...\n",
      "2          sport  tigers wary of farrell  gamble  leicester say ...\n",
      "3          sport  yeading face newcastle in fa cup premiership s...\n",
      "4  entertainment  ocean s twelve raids box office ocean s twelve...\n"
     ]
    }
   ],
   "source": [
    "import pandas as pd\n",
    "\n",
    "file_path = 'bbc-news.csv' \n",
    "bbc_data = pd.read_csv(file_path)\n",
    "\n",
    "print(bbc_data.head())"
   ]
  },
  {
   "cell_type": "markdown",
   "metadata": {},
   "source": [
    "### Task 4"
   ]
  },
  {
   "cell_type": "code",
   "execution_count": 36,
   "metadata": {},
   "outputs": [
    {
     "name": "stderr",
     "output_type": "stream",
     "text": [
      "/var/folders/cp/2tfnzp6s7p96w259mtl0_sn80000gn/T/ipykernel_278/2075024008.py:11: FutureWarning: \n",
      "\n",
      "Passing `palette` without assigning `hue` is deprecated and will be removed in v0.14.0. Assign the `x` variable to `hue` and set `legend=False` for the same effect.\n",
      "\n",
      "  sns.barplot(x=category_counts.index, y=category_counts.values, palette='Set2')\n"
     ]
    },
    {
     "data": {
      "image/png": "[encoded data removed]",
      "text/plain": [
       "<Figure size 1000x600 with 1 Axes>"
      ]
     },
     "metadata": {},
     "output_type": "display_data"
    }
   ],
   "source": [
    "import pandas as pd\n",
    "import matplotlib.pyplot as plt\n",
    "import seaborn as sns\n",
    "\n",
    "file_path = 'bbc-news.csv'\n",
    "bbc_data = pd.read_csv(file_path)\n",
    "\n",
    "category_counts = bbc_data['category'].value_counts()\n",
    "\n",
    "plt.figure(figsize=(10, 6))\n",
    "sns.barplot(x=category_counts.index, y=category_counts.values, palette='Set2')\n",
    "plt.title('Number of Articles per Topical Area')\n",
    "plt.xlabel('Category')\n",
    "plt.ylabel('Number of Articles')\n",
    "plt.xticks(rotation=45)\n",
    "plt.show()\n"
   ]
  }
 ],
 "metadata": {
  "kernelspec": {
   "display_name": ".venv",
   "language": "python",
   "name": "python3"
  },
  "language_info": {
   "codemirror_mode": {
    "name": "ipython",
    "version": 3
   },
   "file_extension": ".py",
   "mimetype": "text/x-python",
   "name": "python",
   "nbconvert_exporter": "python",
   "pygments_lexer": "ipython3",
   "version": "3.12.3"
  }
 },
 "nbformat": 4,
 "nbformat_minor": 2
}
